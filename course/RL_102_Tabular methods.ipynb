{
 "cells": [
  {
   "cell_type": "markdown",
   "metadata": {},
   "source": [
    "# 1. Préambule\n",
    "\n",
    "Avant toute chose, **assurez-vous d'avoir suivi le cours RL 101 sur les bandits manchots**.\n",
    "\n",
    "## 1.1. Récompense, action et état\n",
    "\n",
    "Dans le cours RL 101, nous avons défini les notions fondamentales d'action et de récompense. Nous avons parlé de la notion d'état sans toutefois nous en servir.\n",
    "\n",
    "Dans les problèmes de bandits manchots, nous n'avions pas d'état à propremement parler : étant donnée l'action choisie, la récompense était la même.\n",
    "\n",
    "Il arrive nombre de situations où ce n'est pas le cas. Imaginez par exemple un véhicule qui doit transporter de gauche à droite une barre à la verticale. Il peut accélérer à tout moment vers la gauche ou vers la droite. **La décision optimale (d'accélération à droite ou à gauche) dépend évidemment de la situation dans laquelle il se trouve (l'état).**\n",
    "\n",
    "![title](img/pole_balancing_task.png)\n",
    "\n",
    "Pour en apprendre plus sur la modélisation de ces systèmes dynamiques, renseignez-vous sur les **processus de Markov**.\n",
    "\n",
    "## 1.2. La programmation dynamique\n",
    "\n",
    "Initiée par Richard Bellman au début des années 1950, **la programmation dynamique (*Dynamic Programming* ou DP) reste l'un des piliers de l'optimisation des systèmes dynamiques**. On part d'un système dont l'état à l'instant $t$ est noté $S_t \\in \\mathcal{S}$. A chaque instant, on obtient une récompense $R_t$ (qui dépend de l'état), puis on choisit une action $A_t \\in \\mathcal{A}$ qui nous emmène en $S_{t+1} = f_t\\left(S_t, A_t, \\omega_t\\right)$, avec $\\omega_t$ un processus stochastique indépendant de l'état ou de l'action.\n",
    "\n",
    "L'idée derrière la programmation dynamique est la suivante : **si je connais la valeur (à long-terme) de n'importe quel état $s \\in \\mathcal{S}$, alors il est beaucoup plus facile de choisir mon action à chaque instant**, car il suffit de choisir celle qui va maximiser la somme de ma récompense instantanée et de la valeur de l'état dans lequel je vais atterrir.\n",
    "\n",
    "Pour calculer cette valeur à long-terme que l'on appelle fonction-valeur ou valeur de Bellman :\n",
    "* On adopte la notation générique **$\\pi$ pour parler d'une stratégie**, c'est-à-dire d'une fonction qui va associer à tout état $s \\in S$ du système une action $a$ ;\n",
    "* On note alors **$V_\\pi$ la fonction qui a chaque état associe sa valeur à long-terme (la fonction-valeur)**, c'est-à-dire la somme des récompenses que l'on peut gagner à partir de cet état en suivant la stratégie $\\pi$.\n",
    "\n",
    "La fonction-valeur associée à la stratégie $\\pi$ est ainsi définie simplement par la somme des récompenses que l'on obtiendra en utilisant la stratgéie $\\pi$ :\n",
    "$$\n",
    "V_\\pi(s) = \\mathbb{E}\\left[ \\sum_{t=0}^{+\\infty} \\gamma^t \\times R_{t+1} | S_0=s, A_t=\\pi(S_t), S_{t+1} = f_t\\left(S_t, A_t, \\omega_t\\right) \\right]\n",
    "$$\n",
    "\n",
    "**L'équation de la programmation dynamique indique que, si $\\pi_*$ est la stratégie optimale, alors :**\n",
    "\n",
    "$$\n",
    "V_{\\pi^*}(s) = \\max_a \\mathbb{E}\\left[ R_{t+1} + V_{\\pi^*}(S_{t+1}) | S_t=s, A_t=a\\right],\n",
    "$$\n",
    "\n",
    "avec :\n",
    "* $R_t$ la récompense obtenue à l'instant $t$ (par abus de notation, car la récompense dépend en réalité de l'état $s$),\n",
    "* $S_{t+1} = f_t(S_t, A_t, \\omega_t)$\n",
    "\n",
    "# 2. Applications\n",
    "\n",
    "La plupart des (sinon toutes les) méthodes d'apprentissage par renforcement sur des systèmes dynamiques se rapportent à l'équation de la programmation dynamique.\n",
    "\n",
    "## 2.1. Policy Iteration\n",
    "\n",
    "Ici, l'idée est de partir d'une stratégie $\\pi_0$, de calculer la fonction-valeur associée $V_{\\pi_0}$, puis d'améliorer cette stratégie à l'aide de l'équation de la programmation dynamique. On obtient une nouvelle stratégie que l'on note $\\pi_1$, et ainsi de suite...\n",
    "\n",
    "$$\n",
    "\\pi_0 \\rightarrow V_{\\pi_0} \\rightarrow \\pi_1 \\rightarrow \\dots \\rightarrow \\pi_* \\rightarrow V_*\n",
    "$$\n",
    "\n",
    "### Jack's car rental\n",
    "\n",
    "Jack possède deux magasins de locations de voiture, assez éloignés l'un de l'autre. Chaque jour, les clients arrivent pour louer une voiture et, s'il en a une disponible, il la loue 10€. Les voitures redeviennent disponibles seulement le lendemain matin de leur retour. Pour s'assurer qu'il a bien assez de voitures dans sa location, il peut les amener d'un magasin à l'autre au coût de 2€ (en une nuit seulement).\n",
    "\n",
    "On supposera que le nombre de voitures demandées (et ramenées) chaque jour suit une loi de Poisson d'espérance $\\lambda$. Autrement dit, la probabilité de voir $n$ demandes de location sur une journée est $\\frac{\\lambda^n}{n!} e^{-\\lambda}$. On suppose que $\\lambda$ vaut $3$ et $4$ pour les locations, et $3$ et $2$ pour les retours. Pour simplifier, on suppose que chaque location ne peut contenir plus de $20$ véhicules et qu'on ne peut bouger plus de 5 voitures en une nuite. Enfin, on adopte un taux d'escompte (*discount rate*) à chaque instant $\\gamma=0.9$.\n",
    "\n",
    "**Calculez la fonction-valeur associée à la stratégie qui consiste à ne jamais bouger de voitures (en moyennenant sur 100 tirages).** Partons de 10 voitures de chaque côté au démarrage."
   ]
  },
  {
   "cell_type": "code",
   "execution_count": 2,
   "metadata": {},
   "outputs": [],
   "source": [
    "import numpy as np"
   ]
  },
  {
   "cell_type": "code",
   "execution_count": 41,
   "metadata": {},
   "outputs": [
    {
     "name": "stdout",
     "output_type": "stream",
     "text": [
      "502.8917187612995\n"
     ]
    }
   ],
   "source": [
    "T = 100\n",
    "nb_samples = 100\n",
    "gamma = 0.9\n",
    "\n",
    "val = 0\n",
    "\n",
    "# initial value of stocks\n",
    "s1 = s2 = 10\n",
    "\n",
    "# Computed expected Bellman value\n",
    "for i in range(nb_samples):\n",
    "    \n",
    "    # We compute it over a fixed horizon T\n",
    "    for t in range(T):\n",
    "        # Beginning of day t: people come and rent cars (if available)\n",
    "        rents1 = min(s1, np.random.poisson(3))\n",
    "        rents2 = min(s2, np.random.poisson(4))\n",
    "\n",
    "        # Jack gets paid for it (discounted over time)\n",
    "        val += (gamma**t) * 10 * (rents1 + rents2)\n",
    "\n",
    "        # End of day: people get cars back (sometimes)\n",
    "        s1 = max(s1 - rents1 + np.random.poisson(3), 0.)\n",
    "        s2 = max(s2 - rents2 + np.random.poisson(2), 0.)\n",
    "\n",
    "print(val / nb_samples)"
   ]
  },
  {
   "cell_type": "markdown",
   "metadata": {},
   "source": [
    "Calculons maintenant pour tous les états de départ possibles."
   ]
  },
  {
   "cell_type": "code",
   "execution_count": 14,
   "metadata": {},
   "outputs": [],
   "source": [
    "# In order to loop over two lists\n",
    "from itertools import product\n",
    "\n",
    "import matplotlib.pyplot as plt\n",
    "\n",
    "import seaborn as sns\n",
    "sns.set()"
   ]
  },
  {
   "cell_type": "code",
   "execution_count": 36,
   "metadata": {},
   "outputs": [],
   "source": [
    "nb_samples = 100\n",
    "gamma = 0.9\n",
    "T = 100\n",
    "\n",
    "# Bellman function (zero by default)\n",
    "V = np.zeros(shape=(21, 21))\n",
    "\n",
    "# Loop over all possible starting states\n",
    "for s1_0, s2_0 in product(range(21), range(21)):\n",
    "    \n",
    "    # Computed expected Bellman value\n",
    "    for i in range(nb_samples):\n",
    "        s1, s2 = s1_0, s2_0\n",
    "        \n",
    "        # We compute it over a fixed horizon T\n",
    "        for t in range(T):\n",
    "            # Beginning of day t: people come and rent cars (if available)\n",
    "            rents1 = min(s1, np.random.poisson(3))\n",
    "            rents2 = min(s2, np.random.poisson(4))\n",
    "            \n",
    "            # Jack gets paid for it (discounted over time)\n",
    "            V[s1_0, s2_0] += (gamma**t) * 10 * (rents1 + rents2)\n",
    "            \n",
    "            # End of day: people get cars back (sometimes)\n",
    "            s1 = max(s1 - rents1 + np.random.poisson(3), 0.)\n",
    "            s2 = max(s2 - rents2 + np.random.poisson(2), 0.)\n",
    "\n",
    "# Divide to get an expectation\n",
    "V /= nb_samples"
   ]
  },
  {
   "cell_type": "code",
   "execution_count": 37,
   "metadata": {},
   "outputs": [
    {
     "data": {
      "text/plain": [
       "<matplotlib.axes._subplots.AxesSubplot at 0x7f4c937cbc40>"
      ]
     },
     "execution_count": 37,
     "metadata": {},
     "output_type": "execute_result"
    },
    {
     "data": {
      "image/png": "[encoded data removed]",
      "text/plain": [
       "<Figure size 432x288 with 2 Axes>"
      ]
     },
     "metadata": {},
     "output_type": "display_data"
    }
   ],
   "source": [
    "sns.heatmap(V, cmap=\"Reds\")"
   ]
  },
  {
   "cell_type": "code",
   "execution_count": 38,
   "metadata": {},
   "outputs": [
    {
     "data": {
      "text/plain": [
       "554.8295338142825"
      ]
     },
     "execution_count": 38,
     "metadata": {},
     "output_type": "execute_result"
    }
   ],
   "source": [
    "V[10, 10]"
   ]
  },
  {
   "cell_type": "markdown",
   "metadata": {},
   "source": [
    "**Suivez la stratégie qui consiste à maximiser la somme de la récompense et de $V$.** Stockez cette stratégie dans un `np.ndarray` noté `P`."
   ]
  },
  {
   "cell_type": "code",
   "execution_count": 43,
   "metadata": {},
   "outputs": [],
   "source": [
    "# Strategy\n",
    "P = np.ndarray(shape=(21, 21))\n",
    "\n",
    "# Loop over all possible states\n",
    "for s1, s2 in product(range(21), range(21)):\n",
    "    val_best_action = -1\n",
    "    # Loop over all possible actions:\n",
    "    for a in range(-5, 6):\n",
    "        val = 0.\n",
    "    \n",
    "        # Jump over unfeasible states\n",
    "        if (s1 + a < 0) or (s2 - a < 0):\n",
    "            continue\n",
    "\n",
    "        # Sample the expectation of reward + gamma * V\n",
    "        for i in range(nb_samples):\n",
    "            # Beginning of day t: people come and rent cars (if available)\n",
    "            rents1 = min(s1 + a, np.random.poisson(3))\n",
    "            rents2 = min(s2 - a, np.random.poisson(4))\n",
    "            \n",
    "            # End of day: people get cars back (sometimes)\n",
    "            # We get future state\n",
    "            s1p = min(max(s1 + a - rents1 + np.random.poisson(3), 0), 20)\n",
    "            s2p = min(max(s2 - a - rents2 + np.random.poisson(2), 0), 20)\n",
    "            \n",
    "            # Jack gets paid for rents and we add future estimated value\n",
    "            val += 10 * (rents1 + rents2) - 2 * np.abs(a) + gamma * V[s1p, s2p]\n",
    "        \n",
    "        # Divide by nb_samples to get an expectation\n",
    "        val /= nb_samples\n",
    "        \n",
    "        # Select best action\n",
    "        if val > val_best_action:\n",
    "            P[s1, s2] = a\n",
    "            val_best_action = val"
   ]
  },
  {
   "cell_type": "code",
   "execution_count": 44,
   "metadata": {},
   "outputs": [
    {
     "data": {
      "text/plain": [
       "<matplotlib.axes._subplots.AxesSubplot at 0x7f4c93f5dcd0>"
      ]
     },
     "execution_count": 44,
     "metadata": {},
     "output_type": "execute_result"
    },
    {
     "data": {
      "image/png": "[encoded data removed]",
      "text/plain": [
       "<Figure size 432x288 with 2 Axes>"
      ]
     },
     "metadata": {},
     "output_type": "display_data"
    }
   ],
   "source": [
    "sns.heatmap(P, center=0., cmap=\"PiYG\")"
   ]
  },
  {
   "cell_type": "markdown",
   "metadata": {},
   "source": [
    "**Now that you have a new policy, compute its value function.**"
   ]
  },
  {
   "cell_type": "markdown",
   "metadata": {},
   "source": [
    "## 2.2. Value Iteration"
   ]
  },
  {
   "cell_type": "code",
   "execution_count": 46,
   "metadata": {
    "scrolled": false
   },
   "outputs": [
    {
     "data": {
      "image/png": "[encoded data removed]",
      "text/plain": [
       "<Figure size 432x288 with 2 Axes>"
      ]
     },
     "metadata": {},
     "output_type": "display_data"
    },
    {
     "data": {
      "image/png": "[encoded data removed]",
      "text/plain": [
       "<Figure size 432x288 with 2 Axes>"
      ]
     },
     "metadata": {},
     "output_type": "display_data"
    },
    {
     "data": {
      "image/png": "[encoded data removed]",
      "text/plain": [
       "<Figure size 432x288 with 2 Axes>"
      ]
     },
     "metadata": {},
     "output_type": "display_data"
    },
    {
     "data": {
      "image/png": "[encoded data removed]",
      "text/plain": [
       "<Figure size 432x288 with 2 Axes>"
      ]
     },
     "metadata": {},
     "output_type": "display_data"
    },
    {
     "data": {
      "image/png": "[encoded data removed]",
      "text/plain": [
       "<Figure size 432x288 with 2 Axes>"
      ]
     },
     "metadata": {},
     "output_type": "display_data"
    }
   ],
   "source": [
    "nb_samples = 100\n",
    "gamma = 0.9\n",
    "T = 100\n",
    "\n",
    "# Bellman function (zero by default)\n",
    "V = np.zeros(shape=(21, 21))\n",
    "Vp = np.zeros(shape=(21, 21))\n",
    "\n",
    "for k in range(5):\n",
    "    # Loop over all possible states\n",
    "    for s1, s2 in product(range(21), range(21)):\n",
    "        val_best_action = -1\n",
    "        # Loop over all possible actions\n",
    "        for a in range(-5, 6):\n",
    "            val = 0.\n",
    "\n",
    "            # Jump over unfeasible states\n",
    "            if (s1 + a < 0) or (s2 - a < 0):\n",
    "                continue\n",
    "\n",
    "            # Loop over a large random sample of days to be sure of best action\n",
    "            for i in range(nb_samples):\n",
    "                # Beginning of day t: people come and rent cars (if available)\n",
    "                rents1 = min(s1 + a, np.random.poisson(3))\n",
    "                rents2 = min(s2 - a, np.random.poisson(4))\n",
    "\n",
    "                # End of day: people get cars back (sometimes)\n",
    "                # We get future state\n",
    "                s1p = min(max(s1 + a - rents1 + np.random.poisson(3), 0), 20)\n",
    "                s2p = min(max(s2 - a - rents2 + np.random.poisson(2), 0), 20)\n",
    "\n",
    "                # Jack gets paid for rents and we add future estimated value\n",
    "                val += 10 * (rents1 + rents2) - 2 * np.abs(a) + gamma * V[s1p, s2p]\n",
    "\n",
    "            # Divide by nb_samples to get an expectation\n",
    "            val /= nb_samples\n",
    "\n",
    "            # Select best action value\n",
    "            if val > val_best_action:\n",
    "                val_best_action = val\n",
    "        \n",
    "        # Update V (Vp temporarily)\n",
    "        Vp[s1, s2] = val_best_action\n",
    "\n",
    "    # Update V\n",
    "    V = Vp\n",
    "    sns.heatmap(V, cmap=\"Blues\")\n",
    "    plt.show()"
   ]
  },
  {
   "cell_type": "markdown",
   "metadata": {},
   "source": [
    "# 3. Temporal-Difference Learning\n",
    "\n",
    "**Le TD Learning est le coeur de ce qui fait l'efficacité de l'apprentissage par renforcement : un mélange de programmation dynamique et de Monte-Carlo.**\n",
    "\n",
    "Comme on a pu le constater, le calcul exhaustif fait par la programmation dynamique (tant sur l'espace des états que des aléas) rend son calcul relativement lent. **Le temps de calcul de la programmation dynamique augmente en fait de manière exponentielle avec la dimension de l'état. C'est ce que Bellman a nommé la malédiction de la dimension (*curse of dimensionality*).**\n",
    "\n",
    "Avec le TD-Learning, ces frontières sont *en partie* repoussées.\n",
    "\n",
    "## 3.1. TD(0)\n",
    "\n",
    "Avec cet algorithme, la formule de mise à jour de la fonction de Bellman $V(s)$ sur un état $s \\in \\mathcal{S}$ devient :\n",
    "\n",
    "$$\n",
    "V_{k+1}(s) = V_k(s) + \\alpha \\left[R + \\gamma V_k(s') - V_k(s)\\right],\n",
    "$$\n",
    "\n",
    "avec $s'=f(s, a, \\omega)$ et $a$ l'action optimale étant donnée la fonction valeur $V_k$, soit :\n",
    "\n",
    "$$\n",
    "\\arg\\max_a \\left[R + \\gamma V_k(s')\\right].\n",
    "$$\n",
    "\n",
    "**Mettez en oeuvre cet algorithme afin de trouver la stratégie optimale en partant d'un état initial de 5 voitures dans chaque magasin.** Vers quelles valeurs l'état converge-t-il ?"
   ]
  },
  {
   "cell_type": "code",
   "execution_count": 7,
   "metadata": {},
   "outputs": [],
   "source": [
    "###"
   ]
  },
  {
   "cell_type": "markdown",
   "metadata": {},
   "source": [
    "# 4. Q-Learning\n",
    "\n",
    "## 4.1. Action-value function $Q$ instead of value function $V$\n",
    "\n",
    "**L'un des plus importants bonds en avant de l'apprentissage par renforcement est dû à Chris Watkins, en 1989, avec l'algorithme du $Q$-learning.**\n",
    "\n",
    "La première clé de simplification des algorithmes tels que $Q$-learning ou encore SARSA est le fait de **stocker non plus la valeur de n'importe quel état $s \\in \\mathcal{S}$ mais la valeur de n'importe quel couple état-action $s, a \\in \\mathcal{S} \\times \\mathcal{A}$.**\n",
    "\n",
    "$$\n",
    "Q(s, a) = R + \\mathbb{E}\\left[V(s')\\right],\n",
    "$$\n",
    "avec $s'=f(s, a, \\omega)$.\n",
    "\n",
    "## 4.2. $Q$-learning update rule\n",
    "\n",
    "La formule générale de mise à jour du $Q$-learning est la suivante :\n",
    "\n",
    "$$\n",
    "Q(S_t, A_t) \\leftarrow Q(S_t, A_t) + \\alpha \\left[R_{t+1} + \\gamma \\max_a Q\\left(S_{t+1}, a\\right) - Q(S_t, A_t)\\right].\n",
    "$$\n",
    "\n",
    "Mettons-la en oeuvre sur un exemple.\n",
    "\n",
    "### The cliff-walking task\n",
    "\n",
    "![title](img/cliff_walking_task.png)\n",
    "\n",
    "On part d'en bas à gauche et on veut arriver le plus rapidement possible est bas à droite, sans tomber de la falaise (en bas). Chaque pas (haut, bas, gauche, droite) nous coûte -1."
   ]
  },
  {
   "cell_type": "code",
   "execution_count": 48,
   "metadata": {},
   "outputs": [],
   "source": [
    "class Environment(object):\n",
    "    from typing import Tuple\n",
    "    \n",
    "    def __init__(self, width: int, height: int):\n",
    "        self.width, self.height = width, height\n",
    "    \n",
    "    def reward(self, x: int, y: int):\n",
    "        \"\"\"Returns the reward associated with a given\n",
    "        position (x, y)\n",
    "        \"\"\"\n",
    "        # Unallowed positions\n",
    "        if (x < 0) or (y < 0) or (x >= self.width) or (y >= self.height):\n",
    "            raise ValueError(f\"x={x}, y={y}\")\n",
    "        \n",
    "        if (y == 0) and (x == self.width-1):\n",
    "            return 0 # final position\n",
    "        elif (y == 0) and (x > 0):\n",
    "            return -100\n",
    "        else:\n",
    "            return -1\n",
    "    \n",
    "    def finished(self, x: int, y: int):\n",
    "        \"\"\"Returns True if game is finished at this (x, y) position\n",
    "        \"\"\"\n",
    "        return (y == 0) and (x > 0)\n",
    "    \n",
    "    def move(self, x: int, y: int, a: Tuple[int, int]):\n",
    "        \"\"\"Returns the next state, given state and action\n",
    "        \"\"\"\n",
    "        return min(max(x + a[0], 0), self.width-1), min(max(y + a[1], 0), self.height-1)\n",
    "\n",
    "env = Environment(width=12, height=4)"
   ]
  },
  {
   "cell_type": "code",
   "execution_count": 49,
   "metadata": {
    "scrolled": false
   },
   "outputs": [],
   "source": [
    "# Intializing state-action value function Q(s, a)\n",
    "# Possible actions are up, down, left, right\n",
    "Q = np.zeros(shape=(12, 4, 4))\n",
    "\n",
    "# Mapping of actions\n",
    "actions = [\n",
    "    (0, 1), # up\n",
    "    (0, -1), # down\n",
    "    (-1, 0), # left\n",
    "    (1, 0), # right\n",
    "]\n",
    "\n",
    "# Parameter\n",
    "eps = 0.1\n",
    "alpha = 0.1\n",
    "\n",
    "# Number of episodes (or experiments)\n",
    "nb_episodes = 1000\n",
    "\n",
    "# For plotting\n",
    "list_of_rewards = []\n",
    "\n",
    "# Loop over episodes\n",
    "for n in range(nb_episodes):\n",
    "    # initialize state\n",
    "    x = y = 0\n",
    "    \n",
    "    # for plotting\n",
    "    rewards = []\n",
    "    \n",
    "    # Loop over time steps (until a final state is attained)\n",
    "    while not env.finished(x, y):\n",
    "        # Select action (epsilon-greedy Q-learning policy)\n",
    "        if np.random.uniform() > eps:\n",
    "            a_idx = np.argmax(Q[x, y, :])\n",
    "        else:\n",
    "            a_idx = np.random.randint(0, 4)\n",
    "        # Map action index to action\n",
    "        a = actions[a_idx]\n",
    "        \n",
    "        # Move and observe reward and next state\n",
    "        x_next, y_next = env.move(x, y, a)\n",
    "        r = env.reward(x_next, y_next)\n",
    "        \n",
    "        # for plotting\n",
    "        rewards.append(r)\n",
    "        \n",
    "        # Update Q\n",
    "        Q[x, y, a_idx] += alpha * (r + Q[x_next, y_next, :].max() - Q[x, y, a_idx])\n",
    "        \n",
    "        # Update state\n",
    "        x, y = x_next, y_next\n",
    "    \n",
    "    # for plotting\n",
    "    list_of_rewards.append(rewards)"
   ]
  },
  {
   "cell_type": "markdown",
   "metadata": {},
   "source": [
    "Affichons la fonction $V$ obtenue, qui n'est autre que la max en $a$ de la fonction $Q$."
   ]
  },
  {
   "cell_type": "code",
   "execution_count": 53,
   "metadata": {
    "scrolled": true
   },
   "outputs": [
    {
     "data": {
      "text/plain": [
       "<matplotlib.axes._subplots.AxesSubplot at 0x7f4c930fa250>"
      ]
     },
     "execution_count": 53,
     "metadata": {},
     "output_type": "execute_result"
    },
    {
     "data": {
      "image/png": "[encoded data removed]",
      "text/plain": [
       "<Figure size 864x288 with 2 Axes>"
      ]
     },
     "metadata": {},
     "output_type": "display_data"
    }
   ],
   "source": [
    "fig, ax = plt.subplots(figsize=(12, 4))\n",
    "sns.heatmap(Q.max(axis=2).transpose(), ax=ax)"
   ]
  },
  {
   "cell_type": "markdown",
   "metadata": {},
   "source": [
    "On observe bien qu'elle représente la valeur de chaque prochain état, si on suit la stratégie optimale ! Elle est cependant mois précise dans les zones moins visitées, comme `x=11` et `y=0`.\n",
    "\n",
    "Simulons la stratégie optimale obtenue."
   ]
  },
  {
   "cell_type": "code",
   "execution_count": 54,
   "metadata": {},
   "outputs": [
    {
     "data": {
      "text/plain": [
       "(0, 1)"
      ]
     },
     "execution_count": 54,
     "metadata": {},
     "output_type": "execute_result"
    }
   ],
   "source": [
    "x = y = 0\n",
    "\n",
    "actions[Q[x, y, :].argmax()]"
   ]
  },
  {
   "cell_type": "markdown",
   "metadata": {},
   "source": [
    "L'action optimale est de se déplacer vers le haut. Puis.."
   ]
  },
  {
   "cell_type": "code",
   "execution_count": 55,
   "metadata": {},
   "outputs": [
    {
     "data": {
      "text/plain": [
       "(1, 0)"
      ]
     },
     "execution_count": 55,
     "metadata": {},
     "output_type": "execute_result"
    }
   ],
   "source": [
    "x, y = 0, 1\n",
    "\n",
    "actions[Q[x, y, :].argmax()]"
   ]
  },
  {
   "cell_type": "markdown",
   "metadata": {},
   "source": [
    "L'action optimale est de se déplacer vers la droite. allons droit au but !"
   ]
  },
  {
   "cell_type": "code",
   "execution_count": 56,
   "metadata": {},
   "outputs": [
    {
     "name": "stdout",
     "output_type": "stream",
     "text": [
      "0 1\n",
      "1 1\n",
      "2 1\n",
      "3 1\n",
      "4 1\n",
      "5 1\n",
      "6 1\n",
      "7 1\n",
      "8 1\n",
      "9 1\n",
      "10 1\n",
      "11 1\n",
      "11 0\n"
     ]
    }
   ],
   "source": [
    "x = y = 0\n",
    "\n",
    "while not env.finished(x, y):\n",
    "    # select best action\n",
    "    a = actions[Q[x, y, :].argmax()]\n",
    "    \n",
    "    x, y = env.move(x, y, a)\n",
    "    \n",
    "    print(x, y)"
   ]
  },
  {
   "cell_type": "markdown",
   "metadata": {},
   "source": [
    "**N'est-ce pas magnifique ?**\n",
    "\n",
    "En combien de temps cela converge ? Regardons les récompenses associées aux épisodes."
   ]
  },
  {
   "cell_type": "code",
   "execution_count": 57,
   "metadata": {},
   "outputs": [],
   "source": [
    "import pandas as pd"
   ]
  },
  {
   "cell_type": "code",
   "execution_count": 63,
   "metadata": {},
   "outputs": [
    {
     "data": {
      "text/plain": [
       "[<matplotlib.lines.Line2D at 0x7f4c940d9790>]"
      ]
     },
     "execution_count": 63,
     "metadata": {},
     "output_type": "execute_result"
    },
    {
     "data": {
      "image/png": "[encoded data removed]",
      "text/plain": [
       "<Figure size 432x288 with 1 Axes>"
      ]
     },
     "metadata": {},
     "output_type": "display_data"
    }
   ],
   "source": [
    "st = pd.Series([sum(rewards) for rewards in list_of_rewards])\n",
    "\n",
    "plt.plot(st)\n",
    "#plt.plot(st.rolling(window=10).mean())"
   ]
  },
  {
   "cell_type": "markdown",
   "metadata": {},
   "source": [
    "Très rapidement ! En quelques centaines d'itératons.\n",
    "\n",
    "**Pourquoi la récompense sur l'épisode (même lissée) continue-t-elle à osciller ?**\n",
    "\n",
    "Parce que l'algorithme du $Q$-learning est $\\epsilon$-*greedy* : il continuera indéfiniment à sélectionner de temps à autre ses actions au hasard.\n",
    "\n",
    "Cependant, **c'est un algorithme dit *off-policy*. Bien que sa stratégie de sélection inclut de prendre de temps à autre des actions au hasard, c'est bien la fonction valeur associée à la stratégie optimale qui est calculée !**\n",
    "\n",
    "\n",
    "# Conclusion provisoire\n",
    "\n",
    "Il resterait encore beaucoup de choses à voir, et notamment la rétropropagation des traces (les algorithmes TD($\\lambda$) et $Q(\\lambda)$)."
   ]
  },
  {
   "cell_type": "code",
   "execution_count": null,
   "metadata": {},
   "outputs": [],
   "source": []
  }
 ],
 "metadata": {
  "kernelspec": {
   "display_name": "Python 3 (ipykernel)",
   "language": "python",
   "name": "python3"
  },
  "language_info": {
   "codemirror_mode": {
    "name": "ipython",
    "version": 3
   },
   "file_extension": ".py",
   "mimetype": "text/x-python",
   "name": "python",
   "nbconvert_exporter": "python",
   "pygments_lexer": "ipython3",
   "version": "3.10.6"
  }
 },
 "nbformat": 4,
 "nbformat_minor": 4
}
